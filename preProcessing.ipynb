{
 "cells": [
  {
   "cell_type": "code",
   "execution_count": 43,
   "metadata": {},
   "outputs": [],
   "source": [
    "import numpy as np \n",
    "import pandas as pd \n",
    "import matplotlib.pyplot as plt"
   ]
  },
  {
   "cell_type": "code",
   "execution_count": 44,
   "metadata": {},
   "outputs": [],
   "source": [
    "file_name = \"testset.csv\"\n",
    "save_file = \"train_proc_med.csv\""
   ]
  },
  {
   "cell_type": "code",
   "execution_count": 45,
   "metadata": {},
   "outputs": [
    {
     "data": {
      "text/html": [
       "<div>\n",
       "<style scoped>\n",
       "    .dataframe tbody tr th:only-of-type {\n",
       "        vertical-align: middle;\n",
       "    }\n",
       "\n",
       "    .dataframe tbody tr th {\n",
       "        vertical-align: top;\n",
       "    }\n",
       "\n",
       "    .dataframe thead th {\n",
       "        text-align: right;\n",
       "    }\n",
       "</style>\n",
       "<table border=\"1\" class=\"dataframe\">\n",
       "  <thead>\n",
       "    <tr style=\"text-align: right;\">\n",
       "      <th></th>\n",
       "      <th>datetime_utc</th>\n",
       "      <th>_conds</th>\n",
       "      <th>_dewptm</th>\n",
       "      <th>_fog</th>\n",
       "      <th>_hail</th>\n",
       "      <th>_heatindexm</th>\n",
       "      <th>_hum</th>\n",
       "      <th>_precipm</th>\n",
       "      <th>_pressurem</th>\n",
       "      <th>_rain</th>\n",
       "      <th>_snow</th>\n",
       "      <th>_tempm</th>\n",
       "      <th>_thunder</th>\n",
       "      <th>_tornado</th>\n",
       "      <th>_vism</th>\n",
       "      <th>_wdird</th>\n",
       "      <th>_wdire</th>\n",
       "      <th>_wgustm</th>\n",
       "      <th>_windchillm</th>\n",
       "      <th>_wspdm</th>\n",
       "    </tr>\n",
       "  </thead>\n",
       "  <tbody>\n",
       "    <tr>\n",
       "      <th>0</th>\n",
       "      <td>19961101-11:00</td>\n",
       "      <td>Smoke</td>\n",
       "      <td>9.0</td>\n",
       "      <td>0</td>\n",
       "      <td>0</td>\n",
       "      <td>NaN</td>\n",
       "      <td>27.0</td>\n",
       "      <td>NaN</td>\n",
       "      <td>1010.0</td>\n",
       "      <td>0</td>\n",
       "      <td>0</td>\n",
       "      <td>30.0</td>\n",
       "      <td>0</td>\n",
       "      <td>0</td>\n",
       "      <td>5.0</td>\n",
       "      <td>280.0</td>\n",
       "      <td>West</td>\n",
       "      <td>NaN</td>\n",
       "      <td>NaN</td>\n",
       "      <td>7.4</td>\n",
       "    </tr>\n",
       "    <tr>\n",
       "      <th>1</th>\n",
       "      <td>19961101-12:00</td>\n",
       "      <td>Smoke</td>\n",
       "      <td>10.0</td>\n",
       "      <td>0</td>\n",
       "      <td>0</td>\n",
       "      <td>NaN</td>\n",
       "      <td>32.0</td>\n",
       "      <td>NaN</td>\n",
       "      <td>-9999.0</td>\n",
       "      <td>0</td>\n",
       "      <td>0</td>\n",
       "      <td>28.0</td>\n",
       "      <td>0</td>\n",
       "      <td>0</td>\n",
       "      <td>NaN</td>\n",
       "      <td>0.0</td>\n",
       "      <td>North</td>\n",
       "      <td>NaN</td>\n",
       "      <td>NaN</td>\n",
       "      <td>NaN</td>\n",
       "    </tr>\n",
       "    <tr>\n",
       "      <th>2</th>\n",
       "      <td>19961101-13:00</td>\n",
       "      <td>Smoke</td>\n",
       "      <td>11.0</td>\n",
       "      <td>0</td>\n",
       "      <td>0</td>\n",
       "      <td>NaN</td>\n",
       "      <td>44.0</td>\n",
       "      <td>NaN</td>\n",
       "      <td>-9999.0</td>\n",
       "      <td>0</td>\n",
       "      <td>0</td>\n",
       "      <td>24.0</td>\n",
       "      <td>0</td>\n",
       "      <td>0</td>\n",
       "      <td>NaN</td>\n",
       "      <td>0.0</td>\n",
       "      <td>North</td>\n",
       "      <td>NaN</td>\n",
       "      <td>NaN</td>\n",
       "      <td>NaN</td>\n",
       "    </tr>\n",
       "    <tr>\n",
       "      <th>3</th>\n",
       "      <td>19961101-14:00</td>\n",
       "      <td>Smoke</td>\n",
       "      <td>10.0</td>\n",
       "      <td>0</td>\n",
       "      <td>0</td>\n",
       "      <td>NaN</td>\n",
       "      <td>41.0</td>\n",
       "      <td>NaN</td>\n",
       "      <td>1010.0</td>\n",
       "      <td>0</td>\n",
       "      <td>0</td>\n",
       "      <td>24.0</td>\n",
       "      <td>0</td>\n",
       "      <td>0</td>\n",
       "      <td>2.0</td>\n",
       "      <td>0.0</td>\n",
       "      <td>North</td>\n",
       "      <td>NaN</td>\n",
       "      <td>NaN</td>\n",
       "      <td>NaN</td>\n",
       "    </tr>\n",
       "    <tr>\n",
       "      <th>4</th>\n",
       "      <td>19961101-16:00</td>\n",
       "      <td>Smoke</td>\n",
       "      <td>11.0</td>\n",
       "      <td>0</td>\n",
       "      <td>0</td>\n",
       "      <td>NaN</td>\n",
       "      <td>47.0</td>\n",
       "      <td>NaN</td>\n",
       "      <td>1011.0</td>\n",
       "      <td>0</td>\n",
       "      <td>0</td>\n",
       "      <td>23.0</td>\n",
       "      <td>0</td>\n",
       "      <td>0</td>\n",
       "      <td>1.2</td>\n",
       "      <td>0.0</td>\n",
       "      <td>North</td>\n",
       "      <td>NaN</td>\n",
       "      <td>NaN</td>\n",
       "      <td>0.0</td>\n",
       "    </tr>\n",
       "  </tbody>\n",
       "</table>\n",
       "</div>"
      ],
      "text/plain": [
       "     datetime_utc  _conds   _dewptm   _fog   _hail   _heatindexm   _hum  \\\n",
       "0  19961101-11:00   Smoke       9.0      0       0           NaN   27.0   \n",
       "1  19961101-12:00   Smoke      10.0      0       0           NaN   32.0   \n",
       "2  19961101-13:00   Smoke      11.0      0       0           NaN   44.0   \n",
       "3  19961101-14:00   Smoke      10.0      0       0           NaN   41.0   \n",
       "4  19961101-16:00   Smoke      11.0      0       0           NaN   47.0   \n",
       "\n",
       "    _precipm   _pressurem   _rain   _snow   _tempm   _thunder   _tornado  \\\n",
       "0        NaN       1010.0       0       0     30.0          0          0   \n",
       "1        NaN      -9999.0       0       0     28.0          0          0   \n",
       "2        NaN      -9999.0       0       0     24.0          0          0   \n",
       "3        NaN       1010.0       0       0     24.0          0          0   \n",
       "4        NaN       1011.0       0       0     23.0          0          0   \n",
       "\n",
       "    _vism   _wdird  _wdire   _wgustm   _windchillm   _wspdm  \n",
       "0     5.0    280.0    West       NaN           NaN      7.4  \n",
       "1     NaN      0.0   North       NaN           NaN      NaN  \n",
       "2     NaN      0.0   North       NaN           NaN      NaN  \n",
       "3     2.0      0.0   North       NaN           NaN      NaN  \n",
       "4     1.2      0.0   North       NaN           NaN      0.0  "
      ]
     },
     "execution_count": 45,
     "metadata": {},
     "output_type": "execute_result"
    }
   ],
   "source": [
    "df = pd.read_csv(file_name)\n",
    "df.head()"
   ]
  },
  {
   "cell_type": "code",
   "execution_count": 46,
   "metadata": {},
   "outputs": [
    {
     "data": {
      "text/html": [
       "<div>\n",
       "<style scoped>\n",
       "    .dataframe tbody tr th:only-of-type {\n",
       "        vertical-align: middle;\n",
       "    }\n",
       "\n",
       "    .dataframe tbody tr th {\n",
       "        vertical-align: top;\n",
       "    }\n",
       "\n",
       "    .dataframe thead th {\n",
       "        text-align: right;\n",
       "    }\n",
       "</style>\n",
       "<table border=\"1\" class=\"dataframe\">\n",
       "  <thead>\n",
       "    <tr style=\"text-align: right;\">\n",
       "      <th></th>\n",
       "      <th>_dewptm</th>\n",
       "      <th>_fog</th>\n",
       "      <th>_hail</th>\n",
       "      <th>_heatindexm</th>\n",
       "      <th>_hum</th>\n",
       "      <th>_precipm</th>\n",
       "      <th>_pressurem</th>\n",
       "      <th>_rain</th>\n",
       "      <th>_snow</th>\n",
       "      <th>_tempm</th>\n",
       "      <th>_thunder</th>\n",
       "      <th>_tornado</th>\n",
       "      <th>_vism</th>\n",
       "      <th>_wdird</th>\n",
       "      <th>_wgustm</th>\n",
       "      <th>_windchillm</th>\n",
       "      <th>_wspdm</th>\n",
       "    </tr>\n",
       "  </thead>\n",
       "  <tbody>\n",
       "    <tr>\n",
       "      <th>count</th>\n",
       "      <td>100369.000000</td>\n",
       "      <td>100990.000000</td>\n",
       "      <td>100990.000000</td>\n",
       "      <td>29155.000000</td>\n",
       "      <td>100233.000000</td>\n",
       "      <td>0.0</td>\n",
       "      <td>1.007580e+05</td>\n",
       "      <td>100990.000000</td>\n",
       "      <td>100990.000000</td>\n",
       "      <td>100317.000000</td>\n",
       "      <td>100990.000000</td>\n",
       "      <td>100990.00000</td>\n",
       "      <td>96562.000000</td>\n",
       "      <td>86235.000000</td>\n",
       "      <td>1072.000000</td>\n",
       "      <td>579.000000</td>\n",
       "      <td>98632.000000</td>\n",
       "    </tr>\n",
       "    <tr>\n",
       "      <th>mean</th>\n",
       "      <td>15.741205</td>\n",
       "      <td>0.069690</td>\n",
       "      <td>0.000129</td>\n",
       "      <td>35.651710</td>\n",
       "      <td>57.909481</td>\n",
       "      <td>NaN</td>\n",
       "      <td>1.932331e+03</td>\n",
       "      <td>0.026260</td>\n",
       "      <td>0.000010</td>\n",
       "      <td>25.451269</td>\n",
       "      <td>0.009427</td>\n",
       "      <td>0.00002</td>\n",
       "      <td>2.402774</td>\n",
       "      <td>163.549974</td>\n",
       "      <td>37.671175</td>\n",
       "      <td>5.713817</td>\n",
       "      <td>7.678463</td>\n",
       "    </tr>\n",
       "    <tr>\n",
       "      <th>std</th>\n",
       "      <td>7.058587</td>\n",
       "      <td>0.254625</td>\n",
       "      <td>0.011345</td>\n",
       "      <td>5.015384</td>\n",
       "      <td>23.807771</td>\n",
       "      <td>NaN</td>\n",
       "      <td>3.183786e+05</td>\n",
       "      <td>0.159908</td>\n",
       "      <td>0.003147</td>\n",
       "      <td>8.482859</td>\n",
       "      <td>0.096633</td>\n",
       "      <td>0.00445</td>\n",
       "      <td>20.746028</td>\n",
       "      <td>120.002076</td>\n",
       "      <td>6.848666</td>\n",
       "      <td>1.203290</td>\n",
       "      <td>11.932157</td>\n",
       "    </tr>\n",
       "    <tr>\n",
       "      <th>min</th>\n",
       "      <td>-24.000000</td>\n",
       "      <td>0.000000</td>\n",
       "      <td>0.000000</td>\n",
       "      <td>26.800000</td>\n",
       "      <td>4.000000</td>\n",
       "      <td>NaN</td>\n",
       "      <td>-9.999000e+03</td>\n",
       "      <td>0.000000</td>\n",
       "      <td>0.000000</td>\n",
       "      <td>1.000000</td>\n",
       "      <td>0.000000</td>\n",
       "      <td>0.00000</td>\n",
       "      <td>0.000000</td>\n",
       "      <td>0.000000</td>\n",
       "      <td>25.900000</td>\n",
       "      <td>2.100000</td>\n",
       "      <td>0.000000</td>\n",
       "    </tr>\n",
       "    <tr>\n",
       "      <th>25%</th>\n",
       "      <td>10.000000</td>\n",
       "      <td>0.000000</td>\n",
       "      <td>0.000000</td>\n",
       "      <td>31.700000</td>\n",
       "      <td>39.000000</td>\n",
       "      <td>NaN</td>\n",
       "      <td>1.002000e+03</td>\n",
       "      <td>0.000000</td>\n",
       "      <td>0.000000</td>\n",
       "      <td>19.000000</td>\n",
       "      <td>0.000000</td>\n",
       "      <td>0.00000</td>\n",
       "      <td>1.500000</td>\n",
       "      <td>50.000000</td>\n",
       "      <td>33.300000</td>\n",
       "      <td>4.900000</td>\n",
       "      <td>0.000000</td>\n",
       "    </tr>\n",
       "    <tr>\n",
       "      <th>50%</th>\n",
       "      <td>15.000000</td>\n",
       "      <td>0.000000</td>\n",
       "      <td>0.000000</td>\n",
       "      <td>35.100000</td>\n",
       "      <td>59.000000</td>\n",
       "      <td>NaN</td>\n",
       "      <td>1.008000e+03</td>\n",
       "      <td>0.000000</td>\n",
       "      <td>0.000000</td>\n",
       "      <td>27.000000</td>\n",
       "      <td>0.000000</td>\n",
       "      <td>0.00000</td>\n",
       "      <td>2.000000</td>\n",
       "      <td>160.000000</td>\n",
       "      <td>37.000000</td>\n",
       "      <td>6.100000</td>\n",
       "      <td>7.400000</td>\n",
       "    </tr>\n",
       "    <tr>\n",
       "      <th>75%</th>\n",
       "      <td>22.000000</td>\n",
       "      <td>0.000000</td>\n",
       "      <td>0.000000</td>\n",
       "      <td>39.200000</td>\n",
       "      <td>78.000000</td>\n",
       "      <td>NaN</td>\n",
       "      <td>1.014000e+03</td>\n",
       "      <td>0.000000</td>\n",
       "      <td>0.000000</td>\n",
       "      <td>32.000000</td>\n",
       "      <td>0.000000</td>\n",
       "      <td>0.00000</td>\n",
       "      <td>3.000000</td>\n",
       "      <td>270.000000</td>\n",
       "      <td>40.700000</td>\n",
       "      <td>6.800000</td>\n",
       "      <td>11.100000</td>\n",
       "    </tr>\n",
       "    <tr>\n",
       "      <th>max</th>\n",
       "      <td>75.000000</td>\n",
       "      <td>1.000000</td>\n",
       "      <td>1.000000</td>\n",
       "      <td>73.600000</td>\n",
       "      <td>243.000000</td>\n",
       "      <td>NaN</td>\n",
       "      <td>1.010614e+08</td>\n",
       "      <td>1.000000</td>\n",
       "      <td>1.000000</td>\n",
       "      <td>90.000000</td>\n",
       "      <td>1.000000</td>\n",
       "      <td>1.00000</td>\n",
       "      <td>6436.000000</td>\n",
       "      <td>960.000000</td>\n",
       "      <td>92.600000</td>\n",
       "      <td>7.300000</td>\n",
       "      <td>1514.900000</td>\n",
       "    </tr>\n",
       "  </tbody>\n",
       "</table>\n",
       "</div>"
      ],
      "text/plain": [
       "             _dewptm           _fog          _hail   _heatindexm  \\\n",
       "count  100369.000000  100990.000000  100990.000000  29155.000000   \n",
       "mean       15.741205       0.069690       0.000129     35.651710   \n",
       "std         7.058587       0.254625       0.011345      5.015384   \n",
       "min       -24.000000       0.000000       0.000000     26.800000   \n",
       "25%        10.000000       0.000000       0.000000     31.700000   \n",
       "50%        15.000000       0.000000       0.000000     35.100000   \n",
       "75%        22.000000       0.000000       0.000000     39.200000   \n",
       "max        75.000000       1.000000       1.000000     73.600000   \n",
       "\n",
       "                _hum   _precipm    _pressurem          _rain          _snow  \\\n",
       "count  100233.000000        0.0  1.007580e+05  100990.000000  100990.000000   \n",
       "mean       57.909481        NaN  1.932331e+03       0.026260       0.000010   \n",
       "std        23.807771        NaN  3.183786e+05       0.159908       0.003147   \n",
       "min         4.000000        NaN -9.999000e+03       0.000000       0.000000   \n",
       "25%        39.000000        NaN  1.002000e+03       0.000000       0.000000   \n",
       "50%        59.000000        NaN  1.008000e+03       0.000000       0.000000   \n",
       "75%        78.000000        NaN  1.014000e+03       0.000000       0.000000   \n",
       "max       243.000000        NaN  1.010614e+08       1.000000       1.000000   \n",
       "\n",
       "              _tempm       _thunder      _tornado         _vism        _wdird  \\\n",
       "count  100317.000000  100990.000000  100990.00000  96562.000000  86235.000000   \n",
       "mean       25.451269       0.009427       0.00002      2.402774    163.549974   \n",
       "std         8.482859       0.096633       0.00445     20.746028    120.002076   \n",
       "min         1.000000       0.000000       0.00000      0.000000      0.000000   \n",
       "25%        19.000000       0.000000       0.00000      1.500000     50.000000   \n",
       "50%        27.000000       0.000000       0.00000      2.000000    160.000000   \n",
       "75%        32.000000       0.000000       0.00000      3.000000    270.000000   \n",
       "max        90.000000       1.000000       1.00000   6436.000000    960.000000   \n",
       "\n",
       "           _wgustm   _windchillm        _wspdm  \n",
       "count  1072.000000    579.000000  98632.000000  \n",
       "mean     37.671175      5.713817      7.678463  \n",
       "std       6.848666      1.203290     11.932157  \n",
       "min      25.900000      2.100000      0.000000  \n",
       "25%      33.300000      4.900000      0.000000  \n",
       "50%      37.000000      6.100000      7.400000  \n",
       "75%      40.700000      6.800000     11.100000  \n",
       "max      92.600000      7.300000   1514.900000  "
      ]
     },
     "execution_count": 46,
     "metadata": {},
     "output_type": "execute_result"
    }
   ],
   "source": [
    "df.describe()"
   ]
  },
  {
   "cell_type": "code",
   "execution_count": 47,
   "metadata": {},
   "outputs": [
    {
     "data": {
      "text/plain": [
       "Index(['datetime_utc', ' _conds', ' _dewptm', ' _fog', ' _hail',\n",
       "       ' _heatindexm', ' _hum', ' _precipm', ' _pressurem', ' _rain', ' _snow',\n",
       "       ' _tempm', ' _thunder', ' _tornado', ' _vism', ' _wdird', ' _wdire',\n",
       "       ' _wgustm', ' _windchillm', ' _wspdm'],\n",
       "      dtype='object')"
      ]
     },
     "execution_count": 47,
     "metadata": {},
     "output_type": "execute_result"
    }
   ],
   "source": [
    "df.columns"
   ]
  },
  {
   "cell_type": "code",
   "execution_count": 48,
   "metadata": {},
   "outputs": [
    {
     "data": {
      "text/plain": [
       "Index(['datetime_utc', 'conds', 'dewptm', 'fog', 'hail', 'heatindexm', 'hum',\n",
       "       'precipm', 'pressurem', 'rain', 'snow', 'tempm', 'thunder', 'tornado',\n",
       "       'vism', 'wdird', 'wdire', 'wgustm', 'windchillm', 'wspdm'],\n",
       "      dtype='object')"
      ]
     },
     "execution_count": 48,
     "metadata": {},
     "output_type": "execute_result"
    }
   ],
   "source": [
    "df.columns = map(lambda x: x.strip(), df.columns)\n",
    "df.columns = map(lambda x: x.strip('_'), df.columns)\n",
    "df.columns"
   ]
  },
  {
   "cell_type": "code",
   "execution_count": 49,
   "metadata": {},
   "outputs": [
    {
     "data": {
      "text/plain": [
       "array(['Smoke', 'Clear', 'Haze', 'Unknown', 'Scattered Clouds',\n",
       "       'Shallow Fog', 'Mostly Cloudy', 'Fog', 'Partly Cloudy',\n",
       "       'Patches of Fog', 'Thunderstorms and Rain', 'Overcast', 'Rain',\n",
       "       'Light Rain', 'Light Drizzle', 'Drizzle', 'Mist', 'Volcanic Ash',\n",
       "       'Thunderstorm', 'Light Thunderstorms and Rain',\n",
       "       'Light Thunderstorm', 'Squalls', 'Heavy Rain', 'Light Haze',\n",
       "       'Sandstorm', 'Widespread Dust', 'Funnel Cloud',\n",
       "       'Heavy Thunderstorms and Rain', 'Heavy Thunderstorms with Hail',\n",
       "       'Light Rain Showers', 'Thunderstorms with Hail', nan,\n",
       "       'Partial Fog', 'Light Fog', 'Heavy Fog', 'Blowing Sand',\n",
       "       'Light Hail Showers', 'Light Sandstorm', 'Light Freezing Rain',\n",
       "       'Rain Showers'], dtype=object)"
      ]
     },
     "execution_count": 49,
     "metadata": {},
     "output_type": "execute_result"
    }
   ],
   "source": [
    "df.conds.unique()"
   ]
  },
  {
   "cell_type": "code",
   "execution_count": 50,
   "metadata": {},
   "outputs": [
    {
     "data": {
      "text/plain": [
       "Haze                             47602\n",
       "Smoke                            20760\n",
       "Mist                              9375\n",
       "Clear                             3129\n",
       "Widespread Dust                   2856\n",
       "Fog                               2760\n",
       "Scattered Clouds                  2209\n",
       "Partly Cloudy                     2091\n",
       "Shallow Fog                       1860\n",
       "Mostly Cloudy                     1537\n",
       "Light Rain                        1302\n",
       "Partial Fog                       1031\n",
       "Patches of Fog                     901\n",
       "Thunderstorms and Rain             486\n",
       "Heavy Fog                          421\n",
       "Light Drizzle                      414\n",
       "Rain                               394\n",
       "Unknown                            383\n",
       "Blowing Sand                       378\n",
       "Overcast                           326\n",
       "Thunderstorm                       192\n",
       "Light Thunderstorms and Rain       176\n",
       "Drizzle                            112\n",
       "Light Fog                           64\n",
       "Light Thunderstorm                  64\n",
       "Heavy Rain                          28\n",
       "Heavy Thunderstorms and Rain        22\n",
       "Thunderstorms with Hail             11\n",
       "Light Sandstorm                      6\n",
       "Squalls                              6\n",
       "Light Rain Showers                   5\n",
       "Volcanic Ash                         4\n",
       "Light Haze                           4\n",
       "Sandstorm                            2\n",
       "Funnel Cloud                         2\n",
       "Rain Showers                         2\n",
       "Heavy Thunderstorms with Hail        1\n",
       "Light Freezing Rain                  1\n",
       "Light Hail Showers                   1\n",
       "Name: conds, dtype: int64"
      ]
     },
     "execution_count": 50,
     "metadata": {},
     "output_type": "execute_result"
    }
   ],
   "source": [
    "df.conds.value_counts(ascending=False)"
   ]
  },
  {
   "cell_type": "code",
   "execution_count": 51,
   "metadata": {},
   "outputs": [
    {
     "data": {
      "text/plain": [
       "array(['West', 'North', 'SSW', 'WSW', 'NNE', 'SW', 'WNW', 'NW', 'SSE',\n",
       "       'East', 'ENE', 'ESE', 'SE', 'NE', 'NNW', 'South', 'Variable', nan],\n",
       "      dtype=object)"
      ]
     },
     "execution_count": 51,
     "metadata": {},
     "output_type": "execute_result"
    }
   ],
   "source": [
    "df.wdire.unique()"
   ]
  },
  {
   "cell_type": "code",
   "execution_count": 52,
   "metadata": {},
   "outputs": [
    {
     "data": {
      "text/plain": [
       "North       19034\n",
       "West        11888\n",
       "WNW          7464\n",
       "East         7233\n",
       "NW           7117\n",
       "WSW          5466\n",
       "ESE          5336\n",
       "ENE          3721\n",
       "SE           3513\n",
       "SW           3200\n",
       "NNW          2696\n",
       "NE           2500\n",
       "SSE          2052\n",
       "NNE          1752\n",
       "SSW          1715\n",
       "South        1543\n",
       "Variable        5\n",
       "Name: wdire, dtype: int64"
      ]
     },
     "execution_count": 52,
     "metadata": {},
     "output_type": "execute_result"
    }
   ],
   "source": [
    "df.wdire.value_counts(ascending=False)"
   ]
  },
  {
   "cell_type": "code",
   "execution_count": 53,
   "metadata": {},
   "outputs": [
    {
     "data": {
      "text/html": [
       "<div>\n",
       "<style scoped>\n",
       "    .dataframe tbody tr th:only-of-type {\n",
       "        vertical-align: middle;\n",
       "    }\n",
       "\n",
       "    .dataframe tbody tr th {\n",
       "        vertical-align: top;\n",
       "    }\n",
       "\n",
       "    .dataframe thead th {\n",
       "        text-align: right;\n",
       "    }\n",
       "</style>\n",
       "<table border=\"1\" class=\"dataframe\">\n",
       "  <thead>\n",
       "    <tr style=\"text-align: right;\">\n",
       "      <th></th>\n",
       "      <th>datetime_utc</th>\n",
       "      <th>conds</th>\n",
       "      <th>dewptm</th>\n",
       "      <th>fog</th>\n",
       "      <th>hail</th>\n",
       "      <th>heatindexm</th>\n",
       "      <th>hum</th>\n",
       "      <th>precipm</th>\n",
       "      <th>pressurem</th>\n",
       "      <th>rain</th>\n",
       "      <th>...</th>\n",
       "      <th>thunder</th>\n",
       "      <th>tornado</th>\n",
       "      <th>vism</th>\n",
       "      <th>wdird</th>\n",
       "      <th>wdire</th>\n",
       "      <th>wgustm</th>\n",
       "      <th>windchillm</th>\n",
       "      <th>wspdm</th>\n",
       "      <th>year</th>\n",
       "      <th>month</th>\n",
       "    </tr>\n",
       "  </thead>\n",
       "  <tbody>\n",
       "    <tr>\n",
       "      <th>0</th>\n",
       "      <td>19961101-11:00</td>\n",
       "      <td>Smoke</td>\n",
       "      <td>9.0</td>\n",
       "      <td>0</td>\n",
       "      <td>0</td>\n",
       "      <td>NaN</td>\n",
       "      <td>27.0</td>\n",
       "      <td>NaN</td>\n",
       "      <td>1010.0</td>\n",
       "      <td>0</td>\n",
       "      <td>...</td>\n",
       "      <td>0</td>\n",
       "      <td>0</td>\n",
       "      <td>5.0</td>\n",
       "      <td>280.0</td>\n",
       "      <td>West</td>\n",
       "      <td>NaN</td>\n",
       "      <td>NaN</td>\n",
       "      <td>7.4</td>\n",
       "      <td>1996</td>\n",
       "      <td>11</td>\n",
       "    </tr>\n",
       "    <tr>\n",
       "      <th>1</th>\n",
       "      <td>19961101-12:00</td>\n",
       "      <td>Smoke</td>\n",
       "      <td>10.0</td>\n",
       "      <td>0</td>\n",
       "      <td>0</td>\n",
       "      <td>NaN</td>\n",
       "      <td>32.0</td>\n",
       "      <td>NaN</td>\n",
       "      <td>-9999.0</td>\n",
       "      <td>0</td>\n",
       "      <td>...</td>\n",
       "      <td>0</td>\n",
       "      <td>0</td>\n",
       "      <td>NaN</td>\n",
       "      <td>0.0</td>\n",
       "      <td>North</td>\n",
       "      <td>NaN</td>\n",
       "      <td>NaN</td>\n",
       "      <td>NaN</td>\n",
       "      <td>1996</td>\n",
       "      <td>11</td>\n",
       "    </tr>\n",
       "    <tr>\n",
       "      <th>2</th>\n",
       "      <td>19961101-13:00</td>\n",
       "      <td>Smoke</td>\n",
       "      <td>11.0</td>\n",
       "      <td>0</td>\n",
       "      <td>0</td>\n",
       "      <td>NaN</td>\n",
       "      <td>44.0</td>\n",
       "      <td>NaN</td>\n",
       "      <td>-9999.0</td>\n",
       "      <td>0</td>\n",
       "      <td>...</td>\n",
       "      <td>0</td>\n",
       "      <td>0</td>\n",
       "      <td>NaN</td>\n",
       "      <td>0.0</td>\n",
       "      <td>North</td>\n",
       "      <td>NaN</td>\n",
       "      <td>NaN</td>\n",
       "      <td>NaN</td>\n",
       "      <td>1996</td>\n",
       "      <td>11</td>\n",
       "    </tr>\n",
       "    <tr>\n",
       "      <th>3</th>\n",
       "      <td>19961101-14:00</td>\n",
       "      <td>Smoke</td>\n",
       "      <td>10.0</td>\n",
       "      <td>0</td>\n",
       "      <td>0</td>\n",
       "      <td>NaN</td>\n",
       "      <td>41.0</td>\n",
       "      <td>NaN</td>\n",
       "      <td>1010.0</td>\n",
       "      <td>0</td>\n",
       "      <td>...</td>\n",
       "      <td>0</td>\n",
       "      <td>0</td>\n",
       "      <td>2.0</td>\n",
       "      <td>0.0</td>\n",
       "      <td>North</td>\n",
       "      <td>NaN</td>\n",
       "      <td>NaN</td>\n",
       "      <td>NaN</td>\n",
       "      <td>1996</td>\n",
       "      <td>11</td>\n",
       "    </tr>\n",
       "    <tr>\n",
       "      <th>4</th>\n",
       "      <td>19961101-16:00</td>\n",
       "      <td>Smoke</td>\n",
       "      <td>11.0</td>\n",
       "      <td>0</td>\n",
       "      <td>0</td>\n",
       "      <td>NaN</td>\n",
       "      <td>47.0</td>\n",
       "      <td>NaN</td>\n",
       "      <td>1011.0</td>\n",
       "      <td>0</td>\n",
       "      <td>...</td>\n",
       "      <td>0</td>\n",
       "      <td>0</td>\n",
       "      <td>1.2</td>\n",
       "      <td>0.0</td>\n",
       "      <td>North</td>\n",
       "      <td>NaN</td>\n",
       "      <td>NaN</td>\n",
       "      <td>0.0</td>\n",
       "      <td>1996</td>\n",
       "      <td>11</td>\n",
       "    </tr>\n",
       "  </tbody>\n",
       "</table>\n",
       "<p>5 rows × 22 columns</p>\n",
       "</div>"
      ],
      "text/plain": [
       "     datetime_utc  conds  dewptm  fog  hail  heatindexm   hum  precipm  \\\n",
       "0  19961101-11:00  Smoke     9.0    0     0         NaN  27.0      NaN   \n",
       "1  19961101-12:00  Smoke    10.0    0     0         NaN  32.0      NaN   \n",
       "2  19961101-13:00  Smoke    11.0    0     0         NaN  44.0      NaN   \n",
       "3  19961101-14:00  Smoke    10.0    0     0         NaN  41.0      NaN   \n",
       "4  19961101-16:00  Smoke    11.0    0     0         NaN  47.0      NaN   \n",
       "\n",
       "   pressurem  rain  ...  thunder  tornado  vism  wdird  wdire  wgustm  \\\n",
       "0     1010.0     0  ...        0        0   5.0  280.0   West     NaN   \n",
       "1    -9999.0     0  ...        0        0   NaN    0.0  North     NaN   \n",
       "2    -9999.0     0  ...        0        0   NaN    0.0  North     NaN   \n",
       "3     1010.0     0  ...        0        0   2.0    0.0  North     NaN   \n",
       "4     1011.0     0  ...        0        0   1.2    0.0  North     NaN   \n",
       "\n",
       "  windchillm  wspdm  year  month  \n",
       "0        NaN    7.4  1996     11  \n",
       "1        NaN    NaN  1996     11  \n",
       "2        NaN    NaN  1996     11  \n",
       "3        NaN    NaN  1996     11  \n",
       "4        NaN    0.0  1996     11  \n",
       "\n",
       "[5 rows x 22 columns]"
      ]
     },
     "execution_count": 53,
     "metadata": {},
     "output_type": "execute_result"
    }
   ],
   "source": [
    "def getyear(val):\n",
    "    return val[0:4]\n",
    "\n",
    "def getmonth(val):\n",
    "    return val[4:6]\n",
    "\n",
    "df[\"year\"] = df[\"datetime_utc\"].apply(lambda val:getyear(val))\n",
    "df[\"month\"] = df[\"datetime_utc\"].apply(lambda val:getmonth(val))\n",
    "\n",
    "df.head()"
   ]
  },
  {
   "cell_type": "code",
   "execution_count": 54,
   "metadata": {},
   "outputs": [
    {
     "data": {
      "text/html": [
       "<div>\n",
       "<style scoped>\n",
       "    .dataframe tbody tr th:only-of-type {\n",
       "        vertical-align: middle;\n",
       "    }\n",
       "\n",
       "    .dataframe tbody tr th {\n",
       "        vertical-align: top;\n",
       "    }\n",
       "\n",
       "    .dataframe thead th {\n",
       "        text-align: right;\n",
       "    }\n",
       "</style>\n",
       "<table border=\"1\" class=\"dataframe\">\n",
       "  <thead>\n",
       "    <tr style=\"text-align: right;\">\n",
       "      <th></th>\n",
       "      <th>dewptm</th>\n",
       "      <th>fog</th>\n",
       "      <th>hail</th>\n",
       "      <th>heatindexm</th>\n",
       "      <th>hum</th>\n",
       "      <th>precipm</th>\n",
       "      <th>pressurem</th>\n",
       "      <th>rain</th>\n",
       "      <th>snow</th>\n",
       "      <th>tempm</th>\n",
       "      <th>thunder</th>\n",
       "      <th>tornado</th>\n",
       "      <th>vism</th>\n",
       "      <th>wdird</th>\n",
       "      <th>wgustm</th>\n",
       "      <th>windchillm</th>\n",
       "      <th>wspdm</th>\n",
       "    </tr>\n",
       "  </thead>\n",
       "  <tbody>\n",
       "    <tr>\n",
       "      <th>count</th>\n",
       "      <td>100369.000000</td>\n",
       "      <td>100990.000000</td>\n",
       "      <td>100990.000000</td>\n",
       "      <td>29155.000000</td>\n",
       "      <td>100233.000000</td>\n",
       "      <td>0.0</td>\n",
       "      <td>1.007580e+05</td>\n",
       "      <td>100990.000000</td>\n",
       "      <td>100990.000000</td>\n",
       "      <td>100317.000000</td>\n",
       "      <td>100990.000000</td>\n",
       "      <td>100990.00000</td>\n",
       "      <td>96562.000000</td>\n",
       "      <td>86235.000000</td>\n",
       "      <td>1072.000000</td>\n",
       "      <td>579.000000</td>\n",
       "      <td>98632.000000</td>\n",
       "    </tr>\n",
       "    <tr>\n",
       "      <th>mean</th>\n",
       "      <td>15.741205</td>\n",
       "      <td>0.069690</td>\n",
       "      <td>0.000129</td>\n",
       "      <td>35.651710</td>\n",
       "      <td>57.909481</td>\n",
       "      <td>NaN</td>\n",
       "      <td>1.932331e+03</td>\n",
       "      <td>0.026260</td>\n",
       "      <td>0.000010</td>\n",
       "      <td>25.451269</td>\n",
       "      <td>0.009427</td>\n",
       "      <td>0.00002</td>\n",
       "      <td>2.402774</td>\n",
       "      <td>163.549974</td>\n",
       "      <td>37.671175</td>\n",
       "      <td>5.713817</td>\n",
       "      <td>7.678463</td>\n",
       "    </tr>\n",
       "    <tr>\n",
       "      <th>std</th>\n",
       "      <td>7.058587</td>\n",
       "      <td>0.254625</td>\n",
       "      <td>0.011345</td>\n",
       "      <td>5.015384</td>\n",
       "      <td>23.807771</td>\n",
       "      <td>NaN</td>\n",
       "      <td>3.183786e+05</td>\n",
       "      <td>0.159908</td>\n",
       "      <td>0.003147</td>\n",
       "      <td>8.482859</td>\n",
       "      <td>0.096633</td>\n",
       "      <td>0.00445</td>\n",
       "      <td>20.746028</td>\n",
       "      <td>120.002076</td>\n",
       "      <td>6.848666</td>\n",
       "      <td>1.203290</td>\n",
       "      <td>11.932157</td>\n",
       "    </tr>\n",
       "    <tr>\n",
       "      <th>min</th>\n",
       "      <td>-24.000000</td>\n",
       "      <td>0.000000</td>\n",
       "      <td>0.000000</td>\n",
       "      <td>26.800000</td>\n",
       "      <td>4.000000</td>\n",
       "      <td>NaN</td>\n",
       "      <td>-9.999000e+03</td>\n",
       "      <td>0.000000</td>\n",
       "      <td>0.000000</td>\n",
       "      <td>1.000000</td>\n",
       "      <td>0.000000</td>\n",
       "      <td>0.00000</td>\n",
       "      <td>0.000000</td>\n",
       "      <td>0.000000</td>\n",
       "      <td>25.900000</td>\n",
       "      <td>2.100000</td>\n",
       "      <td>0.000000</td>\n",
       "    </tr>\n",
       "    <tr>\n",
       "      <th>25%</th>\n",
       "      <td>10.000000</td>\n",
       "      <td>0.000000</td>\n",
       "      <td>0.000000</td>\n",
       "      <td>31.700000</td>\n",
       "      <td>39.000000</td>\n",
       "      <td>NaN</td>\n",
       "      <td>1.002000e+03</td>\n",
       "      <td>0.000000</td>\n",
       "      <td>0.000000</td>\n",
       "      <td>19.000000</td>\n",
       "      <td>0.000000</td>\n",
       "      <td>0.00000</td>\n",
       "      <td>1.500000</td>\n",
       "      <td>50.000000</td>\n",
       "      <td>33.300000</td>\n",
       "      <td>4.900000</td>\n",
       "      <td>0.000000</td>\n",
       "    </tr>\n",
       "    <tr>\n",
       "      <th>50%</th>\n",
       "      <td>15.000000</td>\n",
       "      <td>0.000000</td>\n",
       "      <td>0.000000</td>\n",
       "      <td>35.100000</td>\n",
       "      <td>59.000000</td>\n",
       "      <td>NaN</td>\n",
       "      <td>1.008000e+03</td>\n",
       "      <td>0.000000</td>\n",
       "      <td>0.000000</td>\n",
       "      <td>27.000000</td>\n",
       "      <td>0.000000</td>\n",
       "      <td>0.00000</td>\n",
       "      <td>2.000000</td>\n",
       "      <td>160.000000</td>\n",
       "      <td>37.000000</td>\n",
       "      <td>6.100000</td>\n",
       "      <td>7.400000</td>\n",
       "    </tr>\n",
       "    <tr>\n",
       "      <th>75%</th>\n",
       "      <td>22.000000</td>\n",
       "      <td>0.000000</td>\n",
       "      <td>0.000000</td>\n",
       "      <td>39.200000</td>\n",
       "      <td>78.000000</td>\n",
       "      <td>NaN</td>\n",
       "      <td>1.014000e+03</td>\n",
       "      <td>0.000000</td>\n",
       "      <td>0.000000</td>\n",
       "      <td>32.000000</td>\n",
       "      <td>0.000000</td>\n",
       "      <td>0.00000</td>\n",
       "      <td>3.000000</td>\n",
       "      <td>270.000000</td>\n",
       "      <td>40.700000</td>\n",
       "      <td>6.800000</td>\n",
       "      <td>11.100000</td>\n",
       "    </tr>\n",
       "    <tr>\n",
       "      <th>max</th>\n",
       "      <td>75.000000</td>\n",
       "      <td>1.000000</td>\n",
       "      <td>1.000000</td>\n",
       "      <td>73.600000</td>\n",
       "      <td>243.000000</td>\n",
       "      <td>NaN</td>\n",
       "      <td>1.010614e+08</td>\n",
       "      <td>1.000000</td>\n",
       "      <td>1.000000</td>\n",
       "      <td>90.000000</td>\n",
       "      <td>1.000000</td>\n",
       "      <td>1.00000</td>\n",
       "      <td>6436.000000</td>\n",
       "      <td>960.000000</td>\n",
       "      <td>92.600000</td>\n",
       "      <td>7.300000</td>\n",
       "      <td>1514.900000</td>\n",
       "    </tr>\n",
       "  </tbody>\n",
       "</table>\n",
       "</div>"
      ],
      "text/plain": [
       "              dewptm            fog           hail    heatindexm  \\\n",
       "count  100369.000000  100990.000000  100990.000000  29155.000000   \n",
       "mean       15.741205       0.069690       0.000129     35.651710   \n",
       "std         7.058587       0.254625       0.011345      5.015384   \n",
       "min       -24.000000       0.000000       0.000000     26.800000   \n",
       "25%        10.000000       0.000000       0.000000     31.700000   \n",
       "50%        15.000000       0.000000       0.000000     35.100000   \n",
       "75%        22.000000       0.000000       0.000000     39.200000   \n",
       "max        75.000000       1.000000       1.000000     73.600000   \n",
       "\n",
       "                 hum  precipm     pressurem           rain           snow  \\\n",
       "count  100233.000000      0.0  1.007580e+05  100990.000000  100990.000000   \n",
       "mean       57.909481      NaN  1.932331e+03       0.026260       0.000010   \n",
       "std        23.807771      NaN  3.183786e+05       0.159908       0.003147   \n",
       "min         4.000000      NaN -9.999000e+03       0.000000       0.000000   \n",
       "25%        39.000000      NaN  1.002000e+03       0.000000       0.000000   \n",
       "50%        59.000000      NaN  1.008000e+03       0.000000       0.000000   \n",
       "75%        78.000000      NaN  1.014000e+03       0.000000       0.000000   \n",
       "max       243.000000      NaN  1.010614e+08       1.000000       1.000000   \n",
       "\n",
       "               tempm        thunder       tornado          vism         wdird  \\\n",
       "count  100317.000000  100990.000000  100990.00000  96562.000000  86235.000000   \n",
       "mean       25.451269       0.009427       0.00002      2.402774    163.549974   \n",
       "std         8.482859       0.096633       0.00445     20.746028    120.002076   \n",
       "min         1.000000       0.000000       0.00000      0.000000      0.000000   \n",
       "25%        19.000000       0.000000       0.00000      1.500000     50.000000   \n",
       "50%        27.000000       0.000000       0.00000      2.000000    160.000000   \n",
       "75%        32.000000       0.000000       0.00000      3.000000    270.000000   \n",
       "max        90.000000       1.000000       1.00000   6436.000000    960.000000   \n",
       "\n",
       "            wgustm  windchillm         wspdm  \n",
       "count  1072.000000  579.000000  98632.000000  \n",
       "mean     37.671175    5.713817      7.678463  \n",
       "std       6.848666    1.203290     11.932157  \n",
       "min      25.900000    2.100000      0.000000  \n",
       "25%      33.300000    4.900000      0.000000  \n",
       "50%      37.000000    6.100000      7.400000  \n",
       "75%      40.700000    6.800000     11.100000  \n",
       "max      92.600000    7.300000   1514.900000  "
      ]
     },
     "execution_count": 54,
     "metadata": {},
     "output_type": "execute_result"
    }
   ],
   "source": [
    "df.describe()"
   ]
  },
  {
   "cell_type": "code",
   "execution_count": 55,
   "metadata": {},
   "outputs": [
    {
     "data": {
      "text/plain": [
       "year\n",
       "1996    16.518636\n",
       "1997    24.444635\n",
       "1998    24.847371\n",
       "1999    27.335731\n",
       "2000    23.865647\n",
       "2001    25.582460\n",
       "2002    26.481948\n",
       "2003    26.176556\n",
       "2004    26.004396\n",
       "2005    24.712715\n",
       "2006    25.449245\n",
       "2007    24.800211\n",
       "2008    24.525744\n",
       "2009    25.355360\n",
       "2010    25.553338\n",
       "2011    24.966362\n",
       "2012    25.024661\n",
       "2013    24.679222\n",
       "2014    25.175735\n",
       "2015    25.141832\n",
       "2016    27.315734\n",
       "2017    20.204369\n",
       "Name: tempm, dtype: float64"
      ]
     },
     "execution_count": 55,
     "metadata": {},
     "output_type": "execute_result"
    }
   ],
   "source": [
    "df.groupby(\"year\").tempm.mean()"
   ]
  },
  {
   "cell_type": "code",
   "execution_count": 56,
   "metadata": {},
   "outputs": [
    {
     "data": {
      "text/html": [
       "<div>\n",
       "<style scoped>\n",
       "    .dataframe tbody tr th:only-of-type {\n",
       "        vertical-align: middle;\n",
       "    }\n",
       "\n",
       "    .dataframe tbody tr th {\n",
       "        vertical-align: top;\n",
       "    }\n",
       "\n",
       "    .dataframe thead th {\n",
       "        text-align: right;\n",
       "    }\n",
       "</style>\n",
       "<table border=\"1\" class=\"dataframe\">\n",
       "  <thead>\n",
       "    <tr style=\"text-align: right;\">\n",
       "      <th></th>\n",
       "      <th>year</th>\n",
       "      <th>tempm</th>\n",
       "    </tr>\n",
       "  </thead>\n",
       "  <tbody>\n",
       "    <tr>\n",
       "      <th>0</th>\n",
       "      <td>1996</td>\n",
       "      <td>16.518636</td>\n",
       "    </tr>\n",
       "    <tr>\n",
       "      <th>1</th>\n",
       "      <td>1997</td>\n",
       "      <td>24.444635</td>\n",
       "    </tr>\n",
       "    <tr>\n",
       "      <th>2</th>\n",
       "      <td>1998</td>\n",
       "      <td>24.847371</td>\n",
       "    </tr>\n",
       "    <tr>\n",
       "      <th>3</th>\n",
       "      <td>1999</td>\n",
       "      <td>27.335731</td>\n",
       "    </tr>\n",
       "    <tr>\n",
       "      <th>4</th>\n",
       "      <td>2000</td>\n",
       "      <td>23.865647</td>\n",
       "    </tr>\n",
       "  </tbody>\n",
       "</table>\n",
       "</div>"
      ],
      "text/plain": [
       "   year      tempm\n",
       "0  1996  16.518636\n",
       "1  1997  24.444635\n",
       "2  1998  24.847371\n",
       "3  1999  27.335731\n",
       "4  2000  23.865647"
      ]
     },
     "execution_count": 56,
     "metadata": {},
     "output_type": "execute_result"
    }
   ],
   "source": [
    "temp_mean_yearly = df.groupby(\"year\").tempm.mean().reset_index().sort_values('year', ascending=True)\n",
    "temp_mean_yearly.head(5)"
   ]
  },
  {
   "cell_type": "code",
   "execution_count": 57,
   "metadata": {},
   "outputs": [
    {
     "data": {
      "text/plain": [
       "year      object\n",
       "tempm    float64\n",
       "dtype: object"
      ]
     },
     "execution_count": 57,
     "metadata": {},
     "output_type": "execute_result"
    }
   ],
   "source": [
    "temp_mean_yearly.dtypes"
   ]
  },
  {
   "cell_type": "code",
   "execution_count": 58,
   "metadata": {},
   "outputs": [
    {
     "data": {
      "text/plain": [
       "year       int32\n",
       "tempm    float64\n",
       "dtype: object"
      ]
     },
     "execution_count": 58,
     "metadata": {},
     "output_type": "execute_result"
    }
   ],
   "source": [
    "temp_mean_yearly.year = temp_mean_yearly.year.astype(\"int\")\n",
    "temp_mean_yearly.dtypes"
   ]
  },
  {
   "cell_type": "code",
   "execution_count": 59,
   "metadata": {},
   "outputs": [
    {
     "data": {
      "image/png": "[encoded data removed]",
      "text/plain": [
       "<Figure size 1080x720 with 1 Axes>"
      ]
     },
     "metadata": {
      "needs_background": "light"
     },
     "output_type": "display_data"
    }
   ],
   "source": [
    "\n",
    "temp_mean_yearly.plot(kind=\"line\", x=\"year\", y=\"tempm\", figsize=(15, 10),marker=\"o\")\n",
    "plt.axis([1995,2018,14,30])\n",
    "plt.grid(True)\n",
    "plt.xticks(temp_mean_yearly.year)\n",
    "plt.title(\"Average temperature change\")\n",
    "plt.plot();"
   ]
  },
  {
   "cell_type": "code",
   "execution_count": 71,
   "metadata": {},
   "outputs": [
    {
     "data": {
      "text/plain": [
       "[]"
      ]
     },
     "execution_count": 71,
     "metadata": {},
     "output_type": "execute_result"
    },
    {
     "data": {
      "image/png": "[encoded data removed]",
      "text/plain": [
       "<Figure size 1080x720 with 1 Axes>"
      ]
     },
     "metadata": {
      "needs_background": "light"
     },
     "output_type": "display_data"
    }
   ],
   "source": [
    "hum_mean_yearly = df.groupby(\"year\").hum.mean().reset_index().sort_values('year', ascending=True)\n",
    "#hum_mean_yearly.head(5)\n",
    "hum_mean_yearly.year = hum_mean_yearly.year.astype(\"int\")\n",
    "hum_mean_yearly.plot(kind=\"line\", x=\"year\", y=\"hum\", figsize=(15, 10),marker=\"o\")\n",
    "#plt.axis([1995,2018,14,30])\n",
    "plt.grid(True)\n",
    "plt.axis([1995,2018,49,71])\n",
    "plt.xticks(hum_mean_yearly.year)\n",
    "plt.title(\"Average humidity change\")\n",
    "plt.plot()"
   ]
  },
  {
   "cell_type": "code",
   "execution_count": 72,
   "metadata": {},
   "outputs": [
    {
     "data": {
      "text/plain": [
       "[]"
      ]
     },
     "execution_count": 72,
     "metadata": {},
     "output_type": "execute_result"
    },
    {
     "data": {
      "image/png": "[encoded data removed]",
      "text/plain": [
       "<Figure size 1080x720 with 1 Axes>"
      ]
     },
     "metadata": {
      "needs_background": "light"
     },
     "output_type": "display_data"
    }
   ],
   "source": [
    "rain_mean_yearly = df.groupby(\"year\").rain.mean().reset_index().sort_values('year', ascending=True)\n",
    "rain_mean_yearly.year = rain_mean_yearly.year.astype(\"int\")\n",
    "rain_mean_yearly.plot(kind=\"line\", x=\"year\", y=\"rain\", figsize=(15, 10),marker=\"o\")\n",
    "plt.grid(True)\n",
    "plt.axis([1995,2018,-0.01,0.06])\n",
    "plt.xticks(rain_mean_yearly.year)\n",
    "plt.title(\"Average rain change\")\n",
    "plt.plot()"
   ]
  },
  {
   "cell_type": "code",
   "execution_count": 74,
   "metadata": {},
   "outputs": [
    {
     "data": {
      "text/plain": [
       "[]"
      ]
     },
     "execution_count": 74,
     "metadata": {},
     "output_type": "execute_result"
    },
    {
     "data": {
      "image/png": "[encoded data removed]",
      "text/plain": [
       "<Figure size 1080x720 with 1 Axes>"
      ]
     },
     "metadata": {
      "needs_background": "light"
     },
     "output_type": "display_data"
    }
   ],
   "source": [
    "dew_mean_yearly = df.groupby(\"year\").dewptm.mean().reset_index().sort_values('year', ascending=True)\n",
    "dew_mean_yearly.year = dew_mean_yearly.year.astype(\"int\")\n",
    "dew_mean_yearly.plot(kind=\"line\", x=\"year\", y=\"dewptm\", figsize=(15, 10),marker=\"o\")\n",
    "plt.grid(True)\n",
    "plt.xlim([1995,2018])\n",
    "plt.xticks(dew_mean_yearly.year)\n",
    "plt.title(\"Average dew point change\")\n",
    "plt.plot()"
   ]
  },
  {
   "cell_type": "code",
   "execution_count": 75,
   "metadata": {},
   "outputs": [
    {
     "data": {
      "text/plain": [
       "[]"
      ]
     },
     "execution_count": 75,
     "metadata": {},
     "output_type": "execute_result"
    },
    {
     "data": {
      "image/png": "[encoded data removed]",
      "text/plain": [
       "<Figure size 1080x720 with 1 Axes>"
      ]
     },
     "metadata": {
      "needs_background": "light"
     },
     "output_type": "display_data"
    }
   ],
   "source": [
    "fog_mean_yearly = df.groupby(\"year\").fog.mean().reset_index().sort_values('year', ascending=True)\n",
    "fog_mean_yearly.year = fog_mean_yearly.year.astype(\"int\")\n",
    "fog_mean_yearly.plot(kind=\"line\", x=\"year\", y=\"fog\", figsize=(15, 10),marker=\"o\")\n",
    "plt.grid(True)\n",
    "plt.xlim([1995,2018])\n",
    "plt.xticks(fog_mean_yearly.year)\n",
    "plt.title(\"Average fog change\")\n",
    "plt.plot()"
   ]
  },
  {
   "cell_type": "code",
   "execution_count": 19,
   "metadata": {},
   "outputs": [
    {
     "data": {
      "text/plain": [
       "datetime_utc         0\n",
       "conds               72\n",
       "dewptm             621\n",
       "fog                  0\n",
       "hail                 0\n",
       "heatindexm       71835\n",
       "hum                757\n",
       "precipm         100990\n",
       "pressurem          232\n",
       "rain                 0\n",
       "snow                 0\n",
       "tempm              673\n",
       "thunder              0\n",
       "tornado              0\n",
       "vism              4428\n",
       "wdird            14755\n",
       "wdire            14755\n",
       "wgustm           99918\n",
       "windchillm      100411\n",
       "wspdm             2358\n",
       "year                 0\n",
       "month                0\n",
       "dtype: int64"
      ]
     },
     "execution_count": 19,
     "metadata": {},
     "output_type": "execute_result"
    }
   ],
   "source": [
    "df.isnull().sum()"
   ]
  },
  {
   "cell_type": "code",
   "execution_count": 20,
   "metadata": {},
   "outputs": [],
   "source": [
    "df = df.drop(['heatindexm','precipm','wgustm','windchillm'],axis=1);"
   ]
  },
  {
   "cell_type": "code",
   "execution_count": 21,
   "metadata": {},
   "outputs": [
    {
     "data": {
      "text/plain": [
       "Index(['datetime_utc', 'conds', 'dewptm', 'fog', 'hail', 'hum', 'pressurem',\n",
       "       'rain', 'snow', 'tempm', 'thunder', 'tornado', 'vism', 'wdird', 'wdire',\n",
       "       'wspdm', 'year', 'month'],\n",
       "      dtype='object')"
      ]
     },
     "execution_count": 21,
     "metadata": {},
     "output_type": "execute_result"
    }
   ],
   "source": [
    "df.columns"
   ]
  },
  {
   "cell_type": "code",
   "execution_count": 22,
   "metadata": {},
   "outputs": [
    {
     "data": {
      "text/plain": [
       "datetime_utc        0\n",
       "conds              72\n",
       "dewptm            621\n",
       "fog                 0\n",
       "hail                0\n",
       "hum               757\n",
       "pressurem         232\n",
       "rain                0\n",
       "snow                0\n",
       "tempm             673\n",
       "thunder             0\n",
       "tornado             0\n",
       "vism             4428\n",
       "wdird           14755\n",
       "wdire           14755\n",
       "wspdm            2358\n",
       "year                0\n",
       "month               0\n",
       "dtype: int64"
      ]
     },
     "execution_count": 22,
     "metadata": {},
     "output_type": "execute_result"
    }
   ],
   "source": [
    "df.isnull().sum()"
   ]
  },
  {
   "cell_type": "code",
   "execution_count": null,
   "metadata": {},
   "outputs": [],
   "source": []
  },
  {
   "cell_type": "code",
   "execution_count": 23,
   "metadata": {},
   "outputs": [],
   "source": [
    "for i,row in df[df.dewptm.isnull()].iterrows():\n",
    "    year_mean = df[df.year == row.year].dewptm.median()\n",
    "    df.at[i,\"dewptm\"] = year_mean"
   ]
  },
  {
   "cell_type": "code",
   "execution_count": 24,
   "metadata": {},
   "outputs": [],
   "source": [
    "for i,row in df[df.hum.isnull()].iterrows():\n",
    "    year_mean = df[df.year == row.year].hum.median()\n",
    "    df.at[i,\"hum\"] = year_mean"
   ]
  },
  {
   "cell_type": "code",
   "execution_count": null,
   "metadata": {},
   "outputs": [],
   "source": []
  },
  {
   "cell_type": "code",
   "execution_count": 25,
   "metadata": {},
   "outputs": [
    {
     "data": {
      "text/plain": [
       "751"
      ]
     },
     "execution_count": 25,
     "metadata": {},
     "output_type": "execute_result"
    }
   ],
   "source": [
    "df.pressurem[df.pressurem < 0].count()"
   ]
  },
  {
   "cell_type": "code",
   "execution_count": 26,
   "metadata": {},
   "outputs": [
    {
     "name": "stderr",
     "output_type": "stream",
     "text": [
      "C:\\ProgramData\\Anaconda3\\lib\\site-packages\\ipykernel_launcher.py:1: SettingWithCopyWarning: \n",
      "A value is trying to be set on a copy of a slice from a DataFrame\n",
      "\n",
      "See the caveats in the documentation: http://pandas.pydata.org/pandas-docs/stable/user_guide/indexing.html#returning-a-view-versus-a-copy\n",
      "  \"\"\"Entry point for launching an IPython kernel.\n"
     ]
    }
   ],
   "source": [
    "df.pressurem[df.pressurem < 0] = None"
   ]
  },
  {
   "cell_type": "code",
   "execution_count": 27,
   "metadata": {},
   "outputs": [
    {
     "data": {
      "text/plain": [
       "983"
      ]
     },
     "execution_count": 27,
     "metadata": {},
     "output_type": "execute_result"
    }
   ],
   "source": [
    "df.pressurem.isna().sum()"
   ]
  },
  {
   "cell_type": "code",
   "execution_count": 28,
   "metadata": {},
   "outputs": [],
   "source": [
    "for i,row in df[df.pressurem.isnull()].iterrows():\n",
    "    year_mean = df[df.year == row.year].pressurem.median()\n",
    "    df.at[i,\"pressurem\"] = year_mean"
   ]
  },
  {
   "cell_type": "code",
   "execution_count": 29,
   "metadata": {},
   "outputs": [],
   "source": [
    "for i,row in df[df.tempm.isnull()].iterrows():\n",
    "    year_mean = df[df.year == row.year].tempm.median()\n",
    "    df.at[i,\"tempm\"] = year_mean"
   ]
  },
  {
   "cell_type": "code",
   "execution_count": 30,
   "metadata": {},
   "outputs": [],
   "source": [
    "for i,row in df[df.vism.isnull()].iterrows():\n",
    "    year_mean = df[df.year == row.year].vism.median()\n",
    "    df.at[i,\"vism\"] = year_mean"
   ]
  },
  {
   "cell_type": "code",
   "execution_count": 31,
   "metadata": {},
   "outputs": [],
   "source": [
    "for i,row in df[df.wdird.isnull()].iterrows():\n",
    "    year_mean = df[df.year == row.year].wdird.median()\n",
    "    df.at[i,\"wdird\"] = year_mean"
   ]
  },
  {
   "cell_type": "code",
   "execution_count": 32,
   "metadata": {},
   "outputs": [],
   "source": [
    "for i,row in df[df.wspdm.isnull()].iterrows():\n",
    "    year_mean = df[df.year == row.year].wspdm.median()\n",
    "    df.at[i,\"wspdm\"] = year_mean"
   ]
  },
  {
   "cell_type": "code",
   "execution_count": 33,
   "metadata": {},
   "outputs": [
    {
     "data": {
      "text/plain": [
       "datetime_utc        0\n",
       "conds              72\n",
       "dewptm              0\n",
       "fog                 0\n",
       "hail                0\n",
       "hum                 0\n",
       "pressurem           0\n",
       "rain                0\n",
       "snow                0\n",
       "tempm               0\n",
       "thunder             0\n",
       "tornado             0\n",
       "vism                0\n",
       "wdird               0\n",
       "wdire           14755\n",
       "wspdm               0\n",
       "year                0\n",
       "month               0\n",
       "dtype: int64"
      ]
     },
     "execution_count": 33,
     "metadata": {},
     "output_type": "execute_result"
    }
   ],
   "source": [
    "df.isna().sum()"
   ]
  },
  {
   "cell_type": "code",
   "execution_count": 34,
   "metadata": {},
   "outputs": [],
   "source": [
    "for i,row in df[df.wdire.isnull()].iterrows():\n",
    "    year_frequent = df[df.year == row.year].wdire.value_counts().idxmax()\n",
    "    df.at[i,\"wdire\"] = year_frequent"
   ]
  },
  {
   "cell_type": "code",
   "execution_count": 35,
   "metadata": {},
   "outputs": [
    {
     "data": {
      "text/plain": [
       "(100918, 18)"
      ]
     },
     "execution_count": 35,
     "metadata": {},
     "output_type": "execute_result"
    }
   ],
   "source": [
    "df = df.dropna()\n",
    "df.shape"
   ]
  },
  {
   "cell_type": "code",
   "execution_count": 36,
   "metadata": {},
   "outputs": [
    {
     "data": {
      "text/plain": [
       "datetime_utc    0\n",
       "conds           0\n",
       "dewptm          0\n",
       "fog             0\n",
       "hail            0\n",
       "hum             0\n",
       "pressurem       0\n",
       "rain            0\n",
       "snow            0\n",
       "tempm           0\n",
       "thunder         0\n",
       "tornado         0\n",
       "vism            0\n",
       "wdird           0\n",
       "wdire           0\n",
       "wspdm           0\n",
       "year            0\n",
       "month           0\n",
       "dtype: int64"
      ]
     },
     "execution_count": 36,
     "metadata": {},
     "output_type": "execute_result"
    }
   ],
   "source": [
    "df.isna().sum()"
   ]
  },
  {
   "cell_type": "code",
   "execution_count": null,
   "metadata": {},
   "outputs": [],
   "source": []
  },
  {
   "cell_type": "code",
   "execution_count": 37,
   "metadata": {},
   "outputs": [
    {
     "data": {
      "text/plain": [
       "(100918, 35)"
      ]
     },
     "execution_count": 37,
     "metadata": {},
     "output_type": "execute_result"
    }
   ],
   "source": [
    "dummies_wdire = pd.get_dummies(df.wdire)\n",
    "df = pd.concat([df,dummies_wdire],axis=1)\n",
    "df.shape"
   ]
  },
  {
   "cell_type": "code",
   "execution_count": 38,
   "metadata": {},
   "outputs": [
    {
     "data": {
      "text/plain": [
       "(100918, 34)"
      ]
     },
     "execution_count": 38,
     "metadata": {},
     "output_type": "execute_result"
    }
   ],
   "source": [
    "df.drop(\"wdire\",axis=1,inplace=True)\n",
    "df.shape"
   ]
  },
  {
   "cell_type": "code",
   "execution_count": 39,
   "metadata": {},
   "outputs": [
    {
     "data": {
      "text/plain": [
       "(100918, 33)"
      ]
     },
     "execution_count": 39,
     "metadata": {},
     "output_type": "execute_result"
    }
   ],
   "source": [
    "df.drop(\"datetime_utc\",axis=1,inplace=True)\n",
    "df.shape"
   ]
  },
  {
   "cell_type": "code",
   "execution_count": 40,
   "metadata": {},
   "outputs": [
    {
     "data": {
      "text/html": [
       "<div>\n",
       "<style scoped>\n",
       "    .dataframe tbody tr th:only-of-type {\n",
       "        vertical-align: middle;\n",
       "    }\n",
       "\n",
       "    .dataframe tbody tr th {\n",
       "        vertical-align: top;\n",
       "    }\n",
       "\n",
       "    .dataframe thead th {\n",
       "        text-align: right;\n",
       "    }\n",
       "</style>\n",
       "<table border=\"1\" class=\"dataframe\">\n",
       "  <thead>\n",
       "    <tr style=\"text-align: right;\">\n",
       "      <th></th>\n",
       "      <th>conds</th>\n",
       "      <th>dewptm</th>\n",
       "      <th>fog</th>\n",
       "      <th>hail</th>\n",
       "      <th>hum</th>\n",
       "      <th>pressurem</th>\n",
       "      <th>rain</th>\n",
       "      <th>snow</th>\n",
       "      <th>tempm</th>\n",
       "      <th>thunder</th>\n",
       "      <th>...</th>\n",
       "      <th>North</th>\n",
       "      <th>SE</th>\n",
       "      <th>SSE</th>\n",
       "      <th>SSW</th>\n",
       "      <th>SW</th>\n",
       "      <th>South</th>\n",
       "      <th>Variable</th>\n",
       "      <th>WNW</th>\n",
       "      <th>WSW</th>\n",
       "      <th>West</th>\n",
       "    </tr>\n",
       "  </thead>\n",
       "  <tbody>\n",
       "    <tr>\n",
       "      <th>0</th>\n",
       "      <td>Smoke</td>\n",
       "      <td>9.0</td>\n",
       "      <td>0</td>\n",
       "      <td>0</td>\n",
       "      <td>27.0</td>\n",
       "      <td>1010.0</td>\n",
       "      <td>0</td>\n",
       "      <td>0</td>\n",
       "      <td>30.0</td>\n",
       "      <td>0</td>\n",
       "      <td>...</td>\n",
       "      <td>0</td>\n",
       "      <td>0</td>\n",
       "      <td>0</td>\n",
       "      <td>0</td>\n",
       "      <td>0</td>\n",
       "      <td>0</td>\n",
       "      <td>0</td>\n",
       "      <td>0</td>\n",
       "      <td>0</td>\n",
       "      <td>1</td>\n",
       "    </tr>\n",
       "    <tr>\n",
       "      <th>1</th>\n",
       "      <td>Smoke</td>\n",
       "      <td>10.0</td>\n",
       "      <td>0</td>\n",
       "      <td>0</td>\n",
       "      <td>32.0</td>\n",
       "      <td>1017.0</td>\n",
       "      <td>0</td>\n",
       "      <td>0</td>\n",
       "      <td>28.0</td>\n",
       "      <td>0</td>\n",
       "      <td>...</td>\n",
       "      <td>1</td>\n",
       "      <td>0</td>\n",
       "      <td>0</td>\n",
       "      <td>0</td>\n",
       "      <td>0</td>\n",
       "      <td>0</td>\n",
       "      <td>0</td>\n",
       "      <td>0</td>\n",
       "      <td>0</td>\n",
       "      <td>0</td>\n",
       "    </tr>\n",
       "    <tr>\n",
       "      <th>2</th>\n",
       "      <td>Smoke</td>\n",
       "      <td>11.0</td>\n",
       "      <td>0</td>\n",
       "      <td>0</td>\n",
       "      <td>44.0</td>\n",
       "      <td>1017.0</td>\n",
       "      <td>0</td>\n",
       "      <td>0</td>\n",
       "      <td>24.0</td>\n",
       "      <td>0</td>\n",
       "      <td>...</td>\n",
       "      <td>1</td>\n",
       "      <td>0</td>\n",
       "      <td>0</td>\n",
       "      <td>0</td>\n",
       "      <td>0</td>\n",
       "      <td>0</td>\n",
       "      <td>0</td>\n",
       "      <td>0</td>\n",
       "      <td>0</td>\n",
       "      <td>0</td>\n",
       "    </tr>\n",
       "    <tr>\n",
       "      <th>3</th>\n",
       "      <td>Smoke</td>\n",
       "      <td>10.0</td>\n",
       "      <td>0</td>\n",
       "      <td>0</td>\n",
       "      <td>41.0</td>\n",
       "      <td>1010.0</td>\n",
       "      <td>0</td>\n",
       "      <td>0</td>\n",
       "      <td>24.0</td>\n",
       "      <td>0</td>\n",
       "      <td>...</td>\n",
       "      <td>1</td>\n",
       "      <td>0</td>\n",
       "      <td>0</td>\n",
       "      <td>0</td>\n",
       "      <td>0</td>\n",
       "      <td>0</td>\n",
       "      <td>0</td>\n",
       "      <td>0</td>\n",
       "      <td>0</td>\n",
       "      <td>0</td>\n",
       "    </tr>\n",
       "    <tr>\n",
       "      <th>4</th>\n",
       "      <td>Smoke</td>\n",
       "      <td>11.0</td>\n",
       "      <td>0</td>\n",
       "      <td>0</td>\n",
       "      <td>47.0</td>\n",
       "      <td>1011.0</td>\n",
       "      <td>0</td>\n",
       "      <td>0</td>\n",
       "      <td>23.0</td>\n",
       "      <td>0</td>\n",
       "      <td>...</td>\n",
       "      <td>1</td>\n",
       "      <td>0</td>\n",
       "      <td>0</td>\n",
       "      <td>0</td>\n",
       "      <td>0</td>\n",
       "      <td>0</td>\n",
       "      <td>0</td>\n",
       "      <td>0</td>\n",
       "      <td>0</td>\n",
       "      <td>0</td>\n",
       "    </tr>\n",
       "  </tbody>\n",
       "</table>\n",
       "<p>5 rows × 33 columns</p>\n",
       "</div>"
      ],
      "text/plain": [
       "   conds  dewptm  fog  hail   hum  pressurem  rain  snow  tempm  thunder  ...  \\\n",
       "0  Smoke     9.0    0     0  27.0     1010.0     0     0   30.0        0  ...   \n",
       "1  Smoke    10.0    0     0  32.0     1017.0     0     0   28.0        0  ...   \n",
       "2  Smoke    11.0    0     0  44.0     1017.0     0     0   24.0        0  ...   \n",
       "3  Smoke    10.0    0     0  41.0     1010.0     0     0   24.0        0  ...   \n",
       "4  Smoke    11.0    0     0  47.0     1011.0     0     0   23.0        0  ...   \n",
       "\n",
       "   North  SE  SSE  SSW SW South  Variable  WNW  WSW  West  \n",
       "0      0   0    0    0  0     0         0    0    0     1  \n",
       "1      1   0    0    0  0     0         0    0    0     0  \n",
       "2      1   0    0    0  0     0         0    0    0     0  \n",
       "3      1   0    0    0  0     0         0    0    0     0  \n",
       "4      1   0    0    0  0     0         0    0    0     0  \n",
       "\n",
       "[5 rows x 33 columns]"
      ]
     },
     "execution_count": 40,
     "metadata": {},
     "output_type": "execute_result"
    }
   ],
   "source": [
    "df.head()"
   ]
  },
  {
   "cell_type": "code",
   "execution_count": 41,
   "metadata": {},
   "outputs": [],
   "source": [
    "df.to_csv(save_file,index = False)"
   ]
  },
  {
   "cell_type": "code",
   "execution_count": 42,
   "metadata": {},
   "outputs": [
    {
     "data": {
      "text/plain": [
       "Index(['conds', 'dewptm', 'fog', 'hail', 'hum', 'pressurem', 'rain', 'snow',\n",
       "       'tempm', 'thunder', 'tornado', 'vism', 'wdird', 'wspdm', 'year',\n",
       "       'month', 'ENE', 'ESE', 'East', 'NE', 'NNE', 'NNW', 'NW', 'North', 'SE',\n",
       "       'SSE', 'SSW', 'SW', 'South', 'Variable', 'WNW', 'WSW', 'West'],\n",
       "      dtype='object')"
      ]
     },
     "execution_count": 42,
     "metadata": {},
     "output_type": "execute_result"
    }
   ],
   "source": [
    "df.columns"
   ]
  },
  {
   "cell_type": "code",
   "execution_count": null,
   "metadata": {},
   "outputs": [],
   "source": []
  }
 ],
 "metadata": {
  "kernelspec": {
   "display_name": "Python 3",
   "language": "python",
   "name": "python3"
  },
  "language_info": {
   "codemirror_mode": {
    "name": "ipython",
    "version": 3
   },
   "file_extension": ".py",
   "mimetype": "text/x-python",
   "name": "python",
   "nbconvert_exporter": "python",
   "pygments_lexer": "ipython3",
   "version": "3.6.9"
  }
 },
 "nbformat": 4,
 "nbformat_minor": 2
}
